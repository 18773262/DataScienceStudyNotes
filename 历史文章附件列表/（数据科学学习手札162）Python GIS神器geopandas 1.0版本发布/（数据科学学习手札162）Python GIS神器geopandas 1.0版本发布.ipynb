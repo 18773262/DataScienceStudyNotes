{
 "cells": [
  {
   "cell_type": "code",
   "execution_count": 1,
   "id": "effc55c9-cc69-460c-99de-2c6d6df5df8d",
   "metadata": {
    "execution": {
     "iopub.execute_input": "2024-06-25T09:13:31.143102Z",
     "iopub.status.busy": "2024-06-25T09:13:31.143102Z",
     "iopub.status.idle": "2024-06-25T09:13:32.313021Z",
     "shell.execute_reply": "2024-06-25T09:13:32.312512Z",
     "shell.execute_reply.started": "2024-06-25T09:13:31.143102Z"
    }
   },
   "outputs": [
    {
     "data": {
      "text/plain": [
       "'1.0.0'"
      ]
     },
     "execution_count": 1,
     "metadata": {},
     "output_type": "execute_result"
    }
   ],
   "source": [
    "import geopandas as gpd\n",
    "from shapely.geometry import (\n",
    "    Point, \n",
    "    LineString,\n",
    "    LinearRing,\n",
    "    Polygon,\n",
    "    MultiPoint,\n",
    "    MultiLineString,\n",
    "    MultiPolygon,\n",
    "    box\n",
    ")\n",
    "\n",
    "gpd.__version__"
   ]
  },
  {
   "cell_type": "markdown",
   "id": "322786c4-a9f6-4460-abf3-fcf2b64b26ff",
   "metadata": {},
   "source": [
    "# 2 geopandas 1.0版本介绍"
   ]
  },
  {
   "cell_type": "markdown",
   "id": "d9178777-bd49-4c58-a9b3-fc83b8633c46",
   "metadata": {},
   "source": [
    "## 2.1 新增API介绍"
   ]
  },
  {
   "cell_type": "markdown",
   "id": "06dec5ba-e7c9-4ba9-9477-8a870fd450df",
   "metadata": {},
   "source": [
    "### 2.1.1 新增count_geometries()方法"
   ]
  },
  {
   "cell_type": "code",
   "execution_count": 2,
   "id": "1ebca49c-1636-435f-9b68-2753777aeeca",
   "metadata": {
    "execution": {
     "iopub.execute_input": "2024-06-25T09:13:32.315106Z",
     "iopub.status.busy": "2024-06-25T09:13:32.314028Z",
     "iopub.status.idle": "2024-06-25T09:13:32.329818Z",
     "shell.execute_reply": "2024-06-25T09:13:32.328809Z",
     "shell.execute_reply.started": "2024-06-25T09:13:32.315106Z"
    }
   },
   "outputs": [
    {
     "data": {
      "text/plain": [
       "0    1\n",
       "1    5\n",
       "dtype: int32"
      ]
     },
     "execution_count": 2,
     "metadata": {},
     "output_type": "execute_result"
    }
   ],
   "source": [
    "demo_gdf = gpd.GeoDataFrame(\n",
    "    geometry=[\n",
    "        Point(0, 0),\n",
    "        MultiPoint([Point(i, i) for i in range(5)])\n",
    "    ]\n",
    ")\n",
    "\n",
    "demo_gdf.count_geometries()"
   ]
  },
  {
   "cell_type": "markdown",
   "id": "2c41cc6f-7280-4466-84aa-3cd96690068c",
   "metadata": {},
   "source": [
    "### 2.1.2 新增count_interior_rings()方法"
   ]
  },
  {
   "cell_type": "code",
   "execution_count": 3,
   "id": "c06ce545-c7f9-43d6-a478-3c4d1b9af31d",
   "metadata": {
    "execution": {
     "iopub.execute_input": "2024-06-25T09:13:32.333734Z",
     "iopub.status.busy": "2024-06-25T09:13:32.332692Z",
     "iopub.status.idle": "2024-06-25T09:13:32.344678Z",
     "shell.execute_reply": "2024-06-25T09:13:32.344678Z",
     "shell.execute_reply.started": "2024-06-25T09:13:32.333734Z"
    }
   },
   "outputs": [
    {
     "data": {
      "image/svg+xml": [
       "<svg xmlns=\"http://www.w3.org/2000/svg\" xmlns:xlink=\"http://www.w3.org/1999/xlink\" width=\"100.0\" height=\"100.0\" viewBox=\"-0.2 -0.2 5.4 5.4\" preserveAspectRatio=\"xMinYMin meet\"><g transform=\"matrix(1,0,0,-1,0,5.0)\"><path fill-rule=\"evenodd\" fill=\"#66cc99\" stroke=\"#555555\" stroke-width=\"0.10800000000000001\" opacity=\"0.6\" d=\"M 0.0,0.0 L 0.0,5.0 L 5.0,5.0 L 5.0,0.0 L 0.0,0.0 z M 1.0,1.0 L 1.0,2.0 L 2.0,2.0 L 2.0,1.0 L 1.0,1.0 z M 3.0,2.0 L 3.0,3.0 L 4.0,3.0 L 4.0,2.0 L 3.0,2.0 z\" /></g></svg>"
      ],
      "text/plain": [
       "<POLYGON ((0 0, 0 5, 5 5, 5 0, 0 0), (1 1, 1 2, 2 2, 2 1, 1 1), (3 2, 3 3, 4...>"
      ]
     },
     "execution_count": 3,
     "metadata": {},
     "output_type": "execute_result"
    }
   ],
   "source": [
    "demo_polygon = Polygon(\n",
    "    [(0, 0), (0, 5), (5, 5), (5, 0)],\n",
    "    [\n",
    "        [(1, 1), (1, 2), (2, 2), (2, 1)],\n",
    "        [(3, 2), (3, 3), (4, 3), (4, 2)],\n",
    "    ],\n",
    ")\n",
    "demo_polygon"
   ]
  },
  {
   "cell_type": "code",
   "execution_count": 4,
   "id": "ab83736f-3e94-41e2-a03b-b17daa065885",
   "metadata": {
    "execution": {
     "iopub.execute_input": "2024-06-25T09:13:32.346817Z",
     "iopub.status.busy": "2024-06-25T09:13:32.346817Z",
     "iopub.status.idle": "2024-06-25T09:13:32.360208Z",
     "shell.execute_reply": "2024-06-25T09:13:32.360208Z",
     "shell.execute_reply.started": "2024-06-25T09:13:32.346817Z"
    }
   },
   "outputs": [
    {
     "data": {
      "text/plain": [
       "0    2\n",
       "dtype: int32"
      ]
     },
     "execution_count": 4,
     "metadata": {},
     "output_type": "execute_result"
    }
   ],
   "source": [
    "demo_gdf = gpd.GeoDataFrame(geometry=[demo_polygon])\n",
    "demo_gdf.count_interior_rings()"
   ]
  },
  {
   "cell_type": "markdown",
   "id": "5a4fd7ed-9417-4138-8867-f383d7f5a21a",
   "metadata": {},
   "source": [
    "### 2.1.3 新增relate_pattern()方法"
   ]
  },
  {
   "cell_type": "code",
   "execution_count": 5,
   "id": "875d487f-bb65-4430-a606-b5654e89ce5d",
   "metadata": {
    "execution": {
     "iopub.execute_input": "2024-06-25T09:13:32.362394Z",
     "iopub.status.busy": "2024-06-25T09:13:32.361277Z",
     "iopub.status.idle": "2024-06-25T09:13:32.376621Z",
     "shell.execute_reply": "2024-06-25T09:13:32.375417Z",
     "shell.execute_reply.started": "2024-06-25T09:13:32.362394Z"
    }
   },
   "outputs": [
    {
     "data": {
      "text/plain": [
       "0    212101212\n",
       "dtype: object"
      ]
     },
     "execution_count": 5,
     "metadata": {},
     "output_type": "execute_result"
    }
   ],
   "source": [
    "demo_s1 = gpd.GeoSeries([Polygon([(0, 0), (0, 5), (5, 5), (5, 0)])])\n",
    "demo_s2 = gpd.GeoSeries([Polygon([(1, 1), (1, 6), (6, 6), (6, 1)])])\n",
    "\n",
    "# 计算DE-9IM空间关系\n",
    "demo_s1.relate(demo_s2)"
   ]
  },
  {
   "cell_type": "code",
   "execution_count": 6,
   "id": "3c77d76f-843c-44bf-92fc-9674216e6051",
   "metadata": {
    "execution": {
     "iopub.execute_input": "2024-06-25T09:13:32.378757Z",
     "iopub.status.busy": "2024-06-25T09:13:32.377746Z",
     "iopub.status.idle": "2024-06-25T09:13:32.392034Z",
     "shell.execute_reply": "2024-06-25T09:13:32.390546Z",
     "shell.execute_reply.started": "2024-06-25T09:13:32.378757Z"
    }
   },
   "outputs": [
    {
     "data": {
      "text/plain": [
       "0    True\n",
       "dtype: bool"
      ]
     },
     "execution_count": 6,
     "metadata": {},
     "output_type": "execute_result"
    }
   ],
   "source": [
    "# 使用relate_pattern()判断指定的DE-9IM空间关系\n",
    "demo_s1.relate_pattern(demo_s2, pattern='212101212')"
   ]
  },
  {
   "cell_type": "markdown",
   "id": "1a08a941-7ea0-49f9-8135-f5b2de96c032",
   "metadata": {},
   "source": [
    "### 2.1.4 新增intersection_all()方法"
   ]
  },
  {
   "cell_type": "code",
   "execution_count": 7,
   "id": "760c2733-cc2f-450a-9442-a0be5e6e9be8",
   "metadata": {
    "execution": {
     "iopub.execute_input": "2024-06-25T09:13:32.393045Z",
     "iopub.status.busy": "2024-06-25T09:13:32.393045Z",
     "iopub.status.idle": "2024-06-25T09:13:33.260012Z",
     "shell.execute_reply": "2024-06-25T09:13:33.259505Z",
     "shell.execute_reply.started": "2024-06-25T09:13:32.393045Z"
    }
   },
   "outputs": [
    {
     "data": {
      "image/png": "[encoded data removed]",
      "text/plain": [
       "<Figure size 640x480 with 1 Axes>"
      ]
     },
     "metadata": {},
     "output_type": "display_data"
    }
   ],
   "source": [
    "demo_s = gpd.GeoSeries(\n",
    "    [box(0, 0, 2, 2), box(1, 1, 3, 3), box(0, 0, 1.5, 1.5)]\n",
    ")\n",
    "ax = demo_s.plot(edgecolor='black', alpha=0.6)\n",
    "(\n",
    "    gpd\n",
    "    .GeoSeries([demo_s.intersection_all()])\n",
    "    .plot(ax=ax, facecolor='none', edgecolor='red', linestyle='--')\n",
    ");"
   ]
  },
  {
   "cell_type": "markdown",
   "id": "49575649-bd53-43f0-8fc4-6d78d881c3a7",
   "metadata": {},
   "source": [
    "### 2.1.5 新增line_merge()方法"
   ]
  },
  {
   "cell_type": "code",
   "execution_count": 8,
   "id": "a659524b-14fa-4557-8bac-43f17dd2f3ee",
   "metadata": {
    "execution": {
     "iopub.execute_input": "2024-06-25T09:13:33.262021Z",
     "iopub.status.busy": "2024-06-25T09:13:33.261025Z",
     "iopub.status.idle": "2024-06-25T09:13:33.431262Z",
     "shell.execute_reply": "2024-06-25T09:13:33.431262Z",
     "shell.execute_reply.started": "2024-06-25T09:13:33.262021Z"
    }
   },
   "outputs": [
    {
     "data": {
      "image/png": "[encoded data removed]",
      "text/plain": [
       "<Figure size 640x480 with 1 Axes>"
      ]
     },
     "metadata": {},
     "output_type": "display_data"
    }
   ],
   "source": [
    "demo_s = gpd.GeoSeries(\n",
    "    [\n",
    "        MultiLineString(\n",
    "            [\n",
    "                LineString([(0, 0), (1, 1)]),\n",
    "                LineString([(1, 1), (2, 0)]),\n",
    "                LineString([(2, 0), (3, 1)])\n",
    "            ]\n",
    "        ),\n",
    "    ]\n",
    ")\n",
    "demo_s.plot();"
   ]
  },
  {
   "cell_type": "code",
   "execution_count": 9,
   "id": "ba8197d8-acbf-4841-bfeb-4f86fdbc030d",
   "metadata": {
    "execution": {
     "iopub.execute_input": "2024-06-25T09:13:33.433443Z",
     "iopub.status.busy": "2024-06-25T09:13:33.433443Z",
     "iopub.status.idle": "2024-06-25T09:13:33.447914Z",
     "shell.execute_reply": "2024-06-25T09:13:33.446912Z",
     "shell.execute_reply.started": "2024-06-25T09:13:33.433443Z"
    }
   },
   "outputs": [
    {
     "data": {
      "text/plain": [
       "0    LINESTRING (0 0, 1 1, 2 0, 3 1)\n",
       "dtype: geometry"
      ]
     },
     "execution_count": 9,
     "metadata": {},
     "output_type": "execute_result"
    }
   ],
   "source": [
    "demo_s.line_merge()"
   ]
  },
  {
   "cell_type": "markdown",
   "id": "0b64730f-99ff-4dd3-8698-e69dce992eb2",
   "metadata": {},
   "source": [
    "### 2.1.6 新增set_precision()、get_precision()方法"
   ]
  },
  {
   "cell_type": "code",
   "execution_count": 10,
   "id": "a2d3cb65-1f8a-4349-a6a7-1a87d4db16e3",
   "metadata": {
    "execution": {
     "iopub.execute_input": "2024-06-25T09:13:33.448913Z",
     "iopub.status.busy": "2024-06-25T09:13:33.448913Z",
     "iopub.status.idle": "2024-06-25T09:13:33.463338Z",
     "shell.execute_reply": "2024-06-25T09:13:33.462253Z",
     "shell.execute_reply.started": "2024-06-25T09:13:33.448913Z"
    }
   },
   "outputs": [
    {
     "data": {
      "text/plain": [
       "0    POINT (0.1235 0.1235)\n",
       "dtype: geometry"
      ]
     },
     "execution_count": 10,
     "metadata": {},
     "output_type": "execute_result"
    }
   ],
   "source": [
    "demo_s = gpd.GeoSeries([Point(0.123456, 0.123456)])\n",
    "demo_s.set_precision(0.0001)"
   ]
  },
  {
   "cell_type": "code",
   "execution_count": 11,
   "id": "19dc9653-edbd-4cd8-97fd-91ecbec1e9d0",
   "metadata": {
    "execution": {
     "iopub.execute_input": "2024-06-25T09:13:33.464362Z",
     "iopub.status.busy": "2024-06-25T09:13:33.464362Z",
     "iopub.status.idle": "2024-06-25T09:13:33.478887Z",
     "shell.execute_reply": "2024-06-25T09:13:33.477777Z",
     "shell.execute_reply.started": "2024-06-25T09:13:33.464362Z"
    }
   },
   "outputs": [
    {
     "data": {
      "text/plain": [
       "0    0.0\n",
       "dtype: float64"
      ]
     },
     "execution_count": 11,
     "metadata": {},
     "output_type": "execute_result"
    }
   ],
   "source": [
    "demo_s.get_precision()"
   ]
  },
  {
   "cell_type": "code",
   "execution_count": 12,
   "id": "4854b4c0-c5d5-4312-84f1-a335097d43d0",
   "metadata": {
    "execution": {
     "iopub.execute_input": "2024-06-25T09:13:33.483606Z",
     "iopub.status.busy": "2024-06-25T09:13:33.482592Z",
     "iopub.status.idle": "2024-06-25T09:13:33.494609Z",
     "shell.execute_reply": "2024-06-25T09:13:33.493605Z",
     "shell.execute_reply.started": "2024-06-25T09:13:33.483606Z"
    }
   },
   "outputs": [
    {
     "data": {
      "text/plain": [
       "0    0.0001\n",
       "dtype: float64"
      ]
     },
     "execution_count": 12,
     "metadata": {},
     "output_type": "execute_result"
    }
   ],
   "source": [
    "demo_s.set_precision(0.0001).get_precision()"
   ]
  },
  {
   "cell_type": "markdown",
   "id": "752826da-f04f-4433-bb11-3e3f6139512b",
   "metadata": {},
   "source": [
    "### 2.1.7 新增count_coordinates()方法"
   ]
  },
  {
   "cell_type": "code",
   "execution_count": 13,
   "id": "720d734b-4681-41fc-99eb-f1d910d10e00",
   "metadata": {
    "execution": {
     "iopub.execute_input": "2024-06-25T09:13:33.496829Z",
     "iopub.status.busy": "2024-06-25T09:13:33.495608Z",
     "iopub.status.idle": "2024-06-25T09:13:33.510390Z",
     "shell.execute_reply": "2024-06-25T09:13:33.509249Z",
     "shell.execute_reply.started": "2024-06-25T09:13:33.496829Z"
    }
   },
   "outputs": [
    {
     "data": {
      "text/plain": [
       "0    1\n",
       "1    2\n",
       "2    3\n",
       "3    4\n",
       "4    5\n",
       "dtype: int32"
      ]
     },
     "execution_count": 13,
     "metadata": {},
     "output_type": "execute_result"
    }
   ],
   "source": [
    "demo_s = gpd.GeoSeries(\n",
    "    [\n",
    "        MultiPoint([Point(j, j) for j in range(i)])\n",
    "        for i in range(1, 6)\n",
    "    ]\n",
    ")\n",
    "demo_s.count_coordinates()"
   ]
  },
  {
   "cell_type": "markdown",
   "id": "6647c780-fda6-493f-bd41-176660ded49d",
   "metadata": {},
   "source": [
    "### 2.1.8 新增is_ccw属性方法"
   ]
  },
  {
   "cell_type": "code",
   "execution_count": 14,
   "id": "033007c4-e61a-4a1f-86cf-43145eed8db2",
   "metadata": {
    "execution": {
     "iopub.execute_input": "2024-06-25T09:13:33.512403Z",
     "iopub.status.busy": "2024-06-25T09:13:33.511408Z",
     "iopub.status.idle": "2024-06-25T09:13:33.525917Z",
     "shell.execute_reply": "2024-06-25T09:13:33.524916Z",
     "shell.execute_reply.started": "2024-06-25T09:13:33.512403Z"
    }
   },
   "outputs": [
    {
     "data": {
      "text/plain": [
       "0    False\n",
       "1     True\n",
       "2    False\n",
       "3    False\n",
       "dtype: bool"
      ]
     },
     "execution_count": 14,
     "metadata": {},
     "output_type": "execute_result"
    }
   ],
   "source": [
    "demo_s = gpd.GeoSeries(\n",
    "    [\n",
    "        LinearRing([(0, 0), (0, 1), (1, 1), (0, 0)]),\n",
    "        LinearRing([(0, 0), (1, 1), (0, 1), (0, 0)]),\n",
    "        LineString([(0, 0), (1, 1), (0, 1)]),\n",
    "        Point(3, 3)\n",
    "    ]\n",
    ")\n",
    "demo_s.is_ccw"
   ]
  },
  {
   "cell_type": "markdown",
   "id": "b0d03b98-e81c-494a-8ad3-6bf295b49178",
   "metadata": {},
   "source": [
    "### 2.1.9 新增is_closed属性方法"
   ]
  },
  {
   "cell_type": "code",
   "execution_count": 15,
   "id": "3c31ba72-a848-4836-a153-0d5400b9e1aa",
   "metadata": {
    "execution": {
     "iopub.execute_input": "2024-06-25T09:13:33.527853Z",
     "iopub.status.busy": "2024-06-25T09:13:33.527322Z",
     "iopub.status.idle": "2024-06-25T09:13:33.541909Z",
     "shell.execute_reply": "2024-06-25T09:13:33.540483Z",
     "shell.execute_reply.started": "2024-06-25T09:13:33.527853Z"
    }
   },
   "outputs": [
    {
     "data": {
      "text/plain": [
       "0     True\n",
       "1    False\n",
       "2    False\n",
       "3    False\n",
       "dtype: bool"
      ]
     },
     "execution_count": 15,
     "metadata": {},
     "output_type": "execute_result"
    }
   ],
   "source": [
    "demo_s = gpd.GeoSeries(\n",
    "    [\n",
    "        LineString([(0, 0), (1, 1), (0, 1), (0, 0)]),\n",
    "        LineString([(0, 0), (1, 1), (0, 1)]),\n",
    "        Polygon([(0, 0), (0, 1), (1, 1), (0, 0)]),\n",
    "        Point(3, 3)\n",
    "    ]\n",
    ")\n",
    "demo_s.is_closed"
   ]
  },
  {
   "cell_type": "markdown",
   "id": "eb0c288b-dd4d-4ac1-9178-b0f3e7703a26",
   "metadata": {},
   "source": [
    "### 2.1.10 新增force_2d()、force_3d()方法"
   ]
  },
  {
   "cell_type": "code",
   "execution_count": 16,
   "id": "7e223135-f38f-4a6e-a1a8-a121d5bd519b",
   "metadata": {
    "execution": {
     "iopub.execute_input": "2024-06-25T09:13:33.544170Z",
     "iopub.status.busy": "2024-06-25T09:13:33.543152Z",
     "iopub.status.idle": "2024-06-25T09:13:33.557197Z",
     "shell.execute_reply": "2024-06-25T09:13:33.556202Z",
     "shell.execute_reply.started": "2024-06-25T09:13:33.544170Z"
    }
   },
   "outputs": [
    {
     "data": {
      "text/plain": [
       "0    POINT Z (0 0 0)\n",
       "dtype: geometry"
      ]
     },
     "execution_count": 16,
     "metadata": {},
     "output_type": "execute_result"
    }
   ],
   "source": [
    "demo_s = gpd.GeoSeries([Point(0, 0, 0)])\n",
    "demo_s"
   ]
  },
  {
   "cell_type": "code",
   "execution_count": 17,
   "id": "42efbca6-4868-48b0-8666-f78adcee8eaa",
   "metadata": {
    "execution": {
     "iopub.execute_input": "2024-06-25T09:13:33.558210Z",
     "iopub.status.busy": "2024-06-25T09:13:33.558210Z",
     "iopub.status.idle": "2024-06-25T09:13:33.572952Z",
     "shell.execute_reply": "2024-06-25T09:13:33.571873Z",
     "shell.execute_reply.started": "2024-06-25T09:13:33.558210Z"
    }
   },
   "outputs": [
    {
     "data": {
      "text/plain": [
       "0    POINT (0 0)\n",
       "dtype: geometry"
      ]
     },
     "execution_count": 17,
     "metadata": {},
     "output_type": "execute_result"
    }
   ],
   "source": [
    "demo_s.force_2d()"
   ]
  },
  {
   "cell_type": "code",
   "execution_count": 18,
   "id": "9f0d61bd-e48b-4fd9-ad7d-a80018b0dea9",
   "metadata": {
    "execution": {
     "iopub.execute_input": "2024-06-25T09:13:33.575065Z",
     "iopub.status.busy": "2024-06-25T09:13:33.574533Z",
     "iopub.status.idle": "2024-06-25T09:13:33.588080Z",
     "shell.execute_reply": "2024-06-25T09:13:33.587082Z",
     "shell.execute_reply.started": "2024-06-25T09:13:33.575065Z"
    }
   },
   "outputs": [
    {
     "data": {
      "text/plain": [
       "0    POINT Z (0 0 0)\n",
       "dtype: geometry"
      ]
     },
     "execution_count": 18,
     "metadata": {},
     "output_type": "execute_result"
    }
   ],
   "source": [
    "demo_s.force_2d().force_3d()"
   ]
  },
  {
   "cell_type": "markdown",
   "id": "4112ff5c-59a0-4ed9-ae57-b597a8214e9b",
   "metadata": {},
   "source": [
    "### 2.1.11 新增voronoi_polygons()方法"
   ]
  },
  {
   "cell_type": "code",
   "execution_count": 19,
   "id": "5ce98c4a-9218-428e-81bf-d0f28bf7b265",
   "metadata": {
    "execution": {
     "iopub.execute_input": "2024-06-25T09:13:33.589082Z",
     "iopub.status.busy": "2024-06-25T09:13:33.589082Z",
     "iopub.status.idle": "2024-06-25T09:13:33.773844Z",
     "shell.execute_reply": "2024-06-25T09:13:33.773245Z",
     "shell.execute_reply.started": "2024-06-25T09:13:33.589082Z"
    }
   },
   "outputs": [
    {
     "data": {
      "text/plain": [
       "<Axes: >"
      ]
     },
     "execution_count": 19,
     "metadata": {},
     "output_type": "execute_result"
    },
    {
     "data": {
      "image/png": "[encoded data removed]",
      "text/plain": [
       "<Figure size 640x480 with 1 Axes>"
      ]
     },
     "metadata": {},
     "output_type": "display_data"
    }
   ],
   "source": [
    "import numpy as np\n",
    "\n",
    "demo_s = gpd.GeoSeries(\n",
    "    [\n",
    "        Point(np.random.uniform(-1, 1), np.random.uniform(-1, 1)) \n",
    "        for i in range(25)\n",
    "    ]\n",
    ")\n",
    "ax = demo_s.plot(color='red', zorder=1, markersize=5)\n",
    "(\n",
    "    demo_s\n",
    "    .voronoi_polygons()\n",
    "    .plot(ax=ax, edgecolor='black', zorder=0, alpha=0.8)\n",
    ")"
   ]
  },
  {
   "cell_type": "markdown",
   "id": "e4860c2b-bf37-415c-bb9f-c1f877138756",
   "metadata": {
    "execution": {
     "iopub.execute_input": "2024-06-25T06:27:46.148603Z",
     "iopub.status.busy": "2024-06-25T06:27:46.148603Z",
     "iopub.status.idle": "2024-06-25T06:27:46.154861Z",
     "shell.execute_reply": "2024-06-25T06:27:46.154861Z",
     "shell.execute_reply.started": "2024-06-25T06:27:46.148603Z"
    }
   },
   "source": [
    "### 2.1.12 新增contains_properly()方法"
   ]
  },
  {
   "cell_type": "code",
   "execution_count": 20,
   "id": "bb4ca22d-6091-4a33-ae6e-7d7735f776e7",
   "metadata": {
    "execution": {
     "iopub.execute_input": "2024-06-25T09:13:33.775495Z",
     "iopub.status.busy": "2024-06-25T09:13:33.774398Z",
     "iopub.status.idle": "2024-06-25T09:13:33.789719Z",
     "shell.execute_reply": "2024-06-25T09:13:33.788542Z",
     "shell.execute_reply.started": "2024-06-25T09:13:33.775495Z"
    }
   },
   "outputs": [],
   "source": [
    "demo_s1 = gpd.GeoSeries(\n",
    "    [\n",
    "        Polygon([(0, 0), (1, 0), (1, 1), (0, 1)]),\n",
    "        Polygon([(0, 0), (2, 0), (2, 2), (0, 2)])\n",
    "    ]\n",
    ")\n",
    "\n",
    "demo_s2 = gpd.GeoSeries(\n",
    "    [\n",
    "        Polygon([(0.5, 0.5), (1, 0.5), (1, 1), (0.5, 1)]),\n",
    "        Polygon([(0.5, 0.5), (1, 0.5), (1, 1), (0.5, 1)]),\n",
    "    ]\n",
    ")"
   ]
  },
  {
   "cell_type": "code",
   "execution_count": 21,
   "id": "a348e28b-f608-439b-95f9-c043d4fd22ac",
   "metadata": {
    "execution": {
     "iopub.execute_input": "2024-06-25T09:13:33.791741Z",
     "iopub.status.busy": "2024-06-25T09:13:33.790728Z",
     "iopub.status.idle": "2024-06-25T09:13:33.805658Z",
     "shell.execute_reply": "2024-06-25T09:13:33.804581Z",
     "shell.execute_reply.started": "2024-06-25T09:13:33.791741Z"
    }
   },
   "outputs": [
    {
     "data": {
      "text/plain": [
       "0    False\n",
       "1     True\n",
       "dtype: bool"
      ]
     },
     "execution_count": 21,
     "metadata": {},
     "output_type": "execute_result"
    }
   ],
   "source": [
    "demo_s1.contains_properly(demo_s2)"
   ]
  },
  {
   "cell_type": "code",
   "execution_count": 22,
   "id": "d8600932-1f67-449a-816c-d15bb94fb7af",
   "metadata": {
    "execution": {
     "iopub.execute_input": "2024-06-25T09:13:33.806721Z",
     "iopub.status.busy": "2024-06-25T09:13:33.806721Z",
     "iopub.status.idle": "2024-06-25T09:13:33.821269Z",
     "shell.execute_reply": "2024-06-25T09:13:33.820013Z",
     "shell.execute_reply.started": "2024-06-25T09:13:33.806721Z"
    }
   },
   "outputs": [
    {
     "data": {
      "text/plain": [
       "0    True\n",
       "1    True\n",
       "dtype: bool"
      ]
     },
     "execution_count": 22,
     "metadata": {},
     "output_type": "execute_result"
    }
   ],
   "source": [
    "demo_s1.contains(demo_s2)"
   ]
  },
  {
   "cell_type": "markdown",
   "id": "ccd99355-a2a4-4928-847f-52634eb1fed7",
   "metadata": {},
   "source": [
    "### 2.1.13 新增build_area()方法"
   ]
  },
  {
   "cell_type": "code",
   "execution_count": 23,
   "id": "24a2f0ae-c9b9-493b-9550-a9797e48a3c4",
   "metadata": {
    "execution": {
     "iopub.execute_input": "2024-06-25T09:13:33.822414Z",
     "iopub.status.busy": "2024-06-25T09:13:33.822414Z",
     "iopub.status.idle": "2024-06-25T09:13:33.992398Z",
     "shell.execute_reply": "2024-06-25T09:13:33.991401Z",
     "shell.execute_reply.started": "2024-06-25T09:13:33.822414Z"
    }
   },
   "outputs": [
    {
     "data": {
      "image/png": "[encoded data removed]",
      "text/plain": [
       "<Figure size 640x480 with 1 Axes>"
      ]
     },
     "metadata": {},
     "output_type": "display_data"
    }
   ],
   "source": [
    "demo_s = gpd.GeoSeries(\n",
    "    [\n",
    "        LineString([(-0.1, 0), (1, 0)]),\n",
    "        LineString([(1, 0), (1, 1)]),\n",
    "        LineString([(1, 1), (0, 1)]),\n",
    "        LineString([(0, 1), (0, -0.1)]),\n",
    "    ]\n",
    ")\n",
    "ax = demo_s.plot(color='red')\n",
    "demo_s.build_area().plot(ax=ax, alpha=0.6);"
   ]
  },
  {
   "cell_type": "markdown",
   "id": "d2333b39-3148-4d68-864e-9d1c18318110",
   "metadata": {},
   "source": [
    "### 2.1.14 新增snap()方法"
   ]
  },
  {
   "cell_type": "code",
   "execution_count": 24,
   "id": "106cc741-b2ca-44a8-8802-156804e449fb",
   "metadata": {
    "execution": {
     "iopub.execute_input": "2024-06-25T09:13:33.994398Z",
     "iopub.status.busy": "2024-06-25T09:13:33.993401Z",
     "iopub.status.idle": "2024-06-25T09:13:34.210104Z",
     "shell.execute_reply": "2024-06-25T09:13:34.208882Z",
     "shell.execute_reply.started": "2024-06-25T09:13:33.994398Z"
    }
   },
   "outputs": [
    {
     "data": {
      "text/plain": [
       "<Axes: >"
      ]
     },
     "execution_count": 24,
     "metadata": {},
     "output_type": "execute_result"
    },
    {
     "data": {
      "image/png": "[encoded data removed]",
      "text/plain": [
       "<Figure size 640x480 with 1 Axes>"
      ]
     },
     "metadata": {},
     "output_type": "display_data"
    }
   ],
   "source": [
    "demo_s1 = gpd.GeoSeries(\n",
    "    [\n",
    "        LineString([(-0.1, -0.1), (1, 0)])\n",
    "    ]\n",
    ")\n",
    "demo_s2 = gpd.GeoSeries(\n",
    "    [\n",
    "        LineString([(0, 1), (0, 0)])\n",
    "    ]\n",
    ")\n",
    "# 调整前\n",
    "ax = demo_s1.plot(color='black')\n",
    "demo_s2.plot(ax=ax, color='red')\n",
    "# 调整后\n",
    "demo_s1.snap(demo_s2, tolerance=0.1).plot(ax=ax, color='green', linestyle='--')"
   ]
  },
  {
   "cell_type": "markdown",
   "id": "03eb6c9d-ea1c-44b0-bd0f-ea27d186f0fe",
   "metadata": {},
   "source": [
    "### 2.1.15 新增transform()方法"
   ]
  },
  {
   "cell_type": "code",
   "execution_count": 25,
   "id": "f2fe7dbb-0a1a-4a4f-92ff-2a09298d76aa",
   "metadata": {
    "execution": {
     "iopub.execute_input": "2024-06-25T09:13:34.211113Z",
     "iopub.status.busy": "2024-06-25T09:13:34.211113Z",
     "iopub.status.idle": "2024-06-25T09:13:34.225966Z",
     "shell.execute_reply": "2024-06-25T09:13:34.224949Z",
     "shell.execute_reply.started": "2024-06-25T09:13:34.211113Z"
    }
   },
   "outputs": [
    {
     "data": {
      "text/plain": [
       "0                             POINT (2 1.5)\n",
       "1                 LINESTRING (1 0.5, 2 1.5)\n",
       "2    POLYGON ((1 0.5, 2 1.5, 1 1.5, 1 0.5))\n",
       "dtype: geometry"
      ]
     },
     "execution_count": 25,
     "metadata": {},
     "output_type": "execute_result"
    }
   ],
   "source": [
    "demo_s = gpd.GeoSeries(\n",
    "    [\n",
    "        Point(1, 1),\n",
    "        LineString([(0, 0), (1, 1)]),\n",
    "        Polygon([(0, 0), (1, 1), (0, 1)]),\n",
    "    ]\n",
    ")\n",
    "demo_s.transform(\n",
    "    lambda c_array: np.apply_along_axis(lambda c: [c[0] + 1, c[1] + 0.5], 1, c_array)\n",
    ")"
   ]
  },
  {
   "cell_type": "markdown",
   "id": "bc62b02a-ac18-49f1-a108-d1702a94edfe",
   "metadata": {},
   "source": [
    "### 2.1.16 新增get_geometry()方法"
   ]
  },
  {
   "cell_type": "code",
   "execution_count": 26,
   "id": "2f8f42f6-bb70-4989-9013-4924a6ed9270",
   "metadata": {
    "execution": {
     "iopub.execute_input": "2024-06-25T09:13:34.227967Z",
     "iopub.status.busy": "2024-06-25T09:13:34.227967Z",
     "iopub.status.idle": "2024-06-25T09:13:34.242149Z",
     "shell.execute_reply": "2024-06-25T09:13:34.240964Z",
     "shell.execute_reply.started": "2024-06-25T09:13:34.227967Z"
    }
   },
   "outputs": [
    {
     "data": {
      "text/plain": [
       "0                                POINT (0 0)\n",
       "1    MULTIPOINT ((0 0), (1 1), (2 2), (3 3))\n",
       "dtype: geometry"
      ]
     },
     "execution_count": 26,
     "metadata": {},
     "output_type": "execute_result"
    }
   ],
   "source": [
    "demo_s = gpd.GeoSeries(\n",
    "    [\n",
    "        Point(0, 0),\n",
    "        MultiPoint([Point(i, i) for i in range(4)])\n",
    "    ]\n",
    ")\n",
    "demo_s"
   ]
  },
  {
   "cell_type": "code",
   "execution_count": 27,
   "id": "5b535c56-5d7a-435d-a6c0-cb9d5051ece9",
   "metadata": {
    "execution": {
     "iopub.execute_input": "2024-06-25T09:13:34.244164Z",
     "iopub.status.busy": "2024-06-25T09:13:34.243160Z",
     "iopub.status.idle": "2024-06-25T09:13:34.256927Z",
     "shell.execute_reply": "2024-06-25T09:13:34.256927Z",
     "shell.execute_reply.started": "2024-06-25T09:13:34.244164Z"
    }
   },
   "outputs": [
    {
     "data": {
      "text/plain": [
       "0    POINT (0 0)\n",
       "1    POINT (0 0)\n",
       "dtype: geometry"
      ]
     },
     "execution_count": 27,
     "metadata": {},
     "output_type": "execute_result"
    }
   ],
   "source": [
    "demo_s.get_geometry(0)"
   ]
  },
  {
   "cell_type": "code",
   "execution_count": 28,
   "id": "59d5b1a1-0350-48dc-9ffd-f20fc3188dcd",
   "metadata": {
    "execution": {
     "iopub.execute_input": "2024-06-25T09:13:34.259464Z",
     "iopub.status.busy": "2024-06-25T09:13:34.259464Z",
     "iopub.status.idle": "2024-06-25T09:13:34.273080Z",
     "shell.execute_reply": "2024-06-25T09:13:34.272083Z",
     "shell.execute_reply.started": "2024-06-25T09:13:34.259464Z"
    }
   },
   "outputs": [
    {
     "data": {
      "text/plain": [
       "0           None\n",
       "1    POINT (1 1)\n",
       "dtype: geometry"
      ]
     },
     "execution_count": 28,
     "metadata": {},
     "output_type": "execute_result"
    }
   ],
   "source": [
    "demo_s.get_geometry(1)"
   ]
  },
  {
   "cell_type": "code",
   "execution_count": 29,
   "id": "d68ea143-c02d-40e6-a7f0-a7799b1cd2c8",
   "metadata": {
    "execution": {
     "iopub.execute_input": "2024-06-25T09:13:34.275080Z",
     "iopub.status.busy": "2024-06-25T09:13:34.275080Z",
     "iopub.status.idle": "2024-06-25T09:13:34.288693Z",
     "shell.execute_reply": "2024-06-25T09:13:34.287617Z",
     "shell.execute_reply.started": "2024-06-25T09:13:34.275080Z"
    }
   },
   "outputs": [
    {
     "data": {
      "text/plain": [
       "0    POINT (0 0)\n",
       "1    POINT (3 3)\n",
       "dtype: geometry"
      ]
     },
     "execution_count": 29,
     "metadata": {},
     "output_type": "execute_result"
    }
   ],
   "source": [
    "demo_s.get_geometry(-1)"
   ]
  },
  {
   "cell_type": "markdown",
   "id": "7251eb9d-6f3f-42d4-94a6-e5f0bcaed4de",
   "metadata": {},
   "source": [
    "### 2.1.17 新增dwithin()方法"
   ]
  },
  {
   "cell_type": "code",
   "execution_count": 30,
   "id": "660cdbf7-2909-44f4-a382-19c770d9de1b",
   "metadata": {
    "execution": {
     "iopub.execute_input": "2024-06-25T09:13:34.291539Z",
     "iopub.status.busy": "2024-06-25T09:13:34.291025Z",
     "iopub.status.idle": "2024-06-25T09:13:34.474787Z",
     "shell.execute_reply": "2024-06-25T09:13:34.473669Z",
     "shell.execute_reply.started": "2024-06-25T09:13:34.291539Z"
    }
   },
   "outputs": [
    {
     "data": {
      "text/plain": [
       "<Axes: >"
      ]
     },
     "execution_count": 30,
     "metadata": {},
     "output_type": "execute_result"
    },
    {
     "data": {
      "image/png": "[encoded data removed]",
      "text/plain": [
       "<Figure size 640x480 with 1 Axes>"
      ]
     },
     "metadata": {},
     "output_type": "display_data"
    }
   ],
   "source": [
    "demo_s1 = gpd.GeoSeries(\n",
    "    [\n",
    "        Point(0, 0),\n",
    "        Point(5, 5)\n",
    "    ]\n",
    ")\n",
    "\n",
    "demo_s2 = gpd.GeoSeries([Point(1, 0), Point(5, 0)]).buffer(0.5)\n",
    "ax = demo_s1.plot(color='red')\n",
    "demo_s2.plot(ax=ax, facecolor='none', edgecolor='black')"
   ]
  },
  {
   "cell_type": "code",
   "execution_count": 31,
   "id": "fe692758-f841-4542-ad30-a5cda4aa5905",
   "metadata": {
    "execution": {
     "iopub.execute_input": "2024-06-25T09:13:34.475861Z",
     "iopub.status.busy": "2024-06-25T09:13:34.475861Z",
     "iopub.status.idle": "2024-06-25T09:13:34.490009Z",
     "shell.execute_reply": "2024-06-25T09:13:34.489007Z",
     "shell.execute_reply.started": "2024-06-25T09:13:34.475861Z"
    }
   },
   "outputs": [
    {
     "data": {
      "text/plain": [
       "0     True\n",
       "1    False\n",
       "dtype: bool"
      ]
     },
     "execution_count": 31,
     "metadata": {},
     "output_type": "execute_result"
    }
   ],
   "source": [
    "demo_s1.dwithin(demo_s2, 1)"
   ]
  },
  {
   "cell_type": "markdown",
   "id": "f87e1902-3762-4285-9511-d141e28878b7",
   "metadata": {},
   "source": [
    "### 2.1.18 新增to_geo_dict()方法"
   ]
  },
  {
   "cell_type": "code",
   "execution_count": 32,
   "id": "f192dc17-aee4-4b2a-b876-6706726f85d5",
   "metadata": {
    "execution": {
     "iopub.execute_input": "2024-06-25T09:13:34.492262Z",
     "iopub.status.busy": "2024-06-25T09:13:34.491010Z",
     "iopub.status.idle": "2024-06-25T09:13:34.520682Z",
     "shell.execute_reply": "2024-06-25T09:13:34.519681Z",
     "shell.execute_reply.started": "2024-06-25T09:13:34.492262Z"
    }
   },
   "outputs": [
    {
     "data": {
      "text/html": [
       "<div>\n",
       "<style scoped>\n",
       "    .dataframe tbody tr th:only-of-type {\n",
       "        vertical-align: middle;\n",
       "    }\n",
       "\n",
       "    .dataframe tbody tr th {\n",
       "        vertical-align: top;\n",
       "    }\n",
       "\n",
       "    .dataframe thead th {\n",
       "        text-align: right;\n",
       "    }\n",
       "</style>\n",
       "<table border=\"1\" class=\"dataframe\">\n",
       "  <thead>\n",
       "    <tr style=\"text-align: right;\">\n",
       "      <th></th>\n",
       "      <th>value</th>\n",
       "      <th>geometry</th>\n",
       "    </tr>\n",
       "  </thead>\n",
       "  <tbody>\n",
       "    <tr>\n",
       "      <th>0</th>\n",
       "      <td>0</td>\n",
       "      <td>POINT (0 0)</td>\n",
       "    </tr>\n",
       "    <tr>\n",
       "      <th>1</th>\n",
       "      <td>1</td>\n",
       "      <td>LINESTRING (0 0, 1 1)</td>\n",
       "    </tr>\n",
       "    <tr>\n",
       "      <th>2</th>\n",
       "      <td>2</td>\n",
       "      <td>POLYGON ((0 0, 1 1, 0 1, 0 0))</td>\n",
       "    </tr>\n",
       "  </tbody>\n",
       "</table>\n",
       "</div>"
      ],
      "text/plain": [
       "   value                        geometry\n",
       "0      0                     POINT (0 0)\n",
       "1      1           LINESTRING (0 0, 1 1)\n",
       "2      2  POLYGON ((0 0, 1 1, 0 1, 0 0))"
      ]
     },
     "execution_count": 32,
     "metadata": {},
     "output_type": "execute_result"
    }
   ],
   "source": [
    "demo_gdf = gpd.GeoDataFrame(\n",
    "    {\n",
    "        'value': range(3),\n",
    "        'geometry': [\n",
    "            Point(0, 0),\n",
    "            LineString([(0, 0), (1, 1)]),\n",
    "            Polygon([(0, 0), (1, 1), (0, 1)]),\n",
    "        ]\n",
    "    }\n",
    ")\n",
    "demo_gdf"
   ]
  },
  {
   "cell_type": "code",
   "execution_count": 33,
   "id": "60301bad-556e-448b-8278-31b6a666f60f",
   "metadata": {
    "execution": {
     "iopub.execute_input": "2024-06-25T09:13:34.522684Z",
     "iopub.status.busy": "2024-06-25T09:13:34.522684Z",
     "iopub.status.idle": "2024-06-25T09:13:34.536681Z",
     "shell.execute_reply": "2024-06-25T09:13:34.535682Z",
     "shell.execute_reply.started": "2024-06-25T09:13:34.522684Z"
    }
   },
   "outputs": [
    {
     "data": {
      "text/plain": [
       "{'type': 'FeatureCollection',\n",
       " 'features': [{'id': '0',\n",
       "   'type': 'Feature',\n",
       "   'properties': {'value': 0},\n",
       "   'geometry': {'type': 'Point', 'coordinates': (0.0, 0.0)}},\n",
       "  {'id': '1',\n",
       "   'type': 'Feature',\n",
       "   'properties': {'value': 1},\n",
       "   'geometry': {'type': 'LineString',\n",
       "    'coordinates': ((0.0, 0.0), (1.0, 1.0))}},\n",
       "  {'id': '2',\n",
       "   'type': 'Feature',\n",
       "   'properties': {'value': 2},\n",
       "   'geometry': {'type': 'Polygon',\n",
       "    'coordinates': (((0.0, 0.0), (1.0, 1.0), (0.0, 1.0), (0.0, 0.0)),)}}]}"
      ]
     },
     "execution_count": 33,
     "metadata": {},
     "output_type": "execute_result"
    }
   ],
   "source": [
    "demo_gdf.to_geo_dict()"
   ]
  },
  {
   "cell_type": "markdown",
   "id": "90979b5b-412c-433b-be37-854e40795f02",
   "metadata": {},
   "source": [
    "## 2.2 功能增强"
   ]
  },
  {
   "cell_type": "markdown",
   "id": "f4888c86-0a3d-4206-b26a-02af84741798",
   "metadata": {},
   "source": [
    "### 2.2.1 空间连接新增dwithin型空间关系判断"
   ]
  },
  {
   "cell_type": "code",
   "execution_count": 34,
   "id": "ca2779f6-1a72-4828-81d4-bdf544792eca",
   "metadata": {
    "execution": {
     "iopub.execute_input": "2024-06-25T09:13:34.538681Z",
     "iopub.status.busy": "2024-06-25T09:13:34.537683Z",
     "iopub.status.idle": "2024-06-25T09:13:34.569067Z",
     "shell.execute_reply": "2024-06-25T09:13:34.567901Z",
     "shell.execute_reply.started": "2024-06-25T09:13:34.538681Z"
    }
   },
   "outputs": [
    {
     "data": {
      "text/html": [
       "<div>\n",
       "<style scoped>\n",
       "    .dataframe tbody tr th:only-of-type {\n",
       "        vertical-align: middle;\n",
       "    }\n",
       "\n",
       "    .dataframe tbody tr th {\n",
       "        vertical-align: top;\n",
       "    }\n",
       "\n",
       "    .dataframe thead th {\n",
       "        text-align: right;\n",
       "    }\n",
       "</style>\n",
       "<table border=\"1\" class=\"dataframe\">\n",
       "  <thead>\n",
       "    <tr style=\"text-align: right;\">\n",
       "      <th></th>\n",
       "      <th>name_left</th>\n",
       "      <th>geometry</th>\n",
       "      <th>index_right</th>\n",
       "      <th>name_right</th>\n",
       "    </tr>\n",
       "  </thead>\n",
       "  <tbody>\n",
       "    <tr>\n",
       "      <th>0</th>\n",
       "      <td>点要素A0</td>\n",
       "      <td>POINT (0 0)</td>\n",
       "      <td>0</td>\n",
       "      <td>点要素B0</td>\n",
       "    </tr>\n",
       "    <tr>\n",
       "      <th>1</th>\n",
       "      <td>点要素A1</td>\n",
       "      <td>POINT (1 0)</td>\n",
       "      <td>1</td>\n",
       "      <td>点要素B1</td>\n",
       "    </tr>\n",
       "  </tbody>\n",
       "</table>\n",
       "</div>"
      ],
      "text/plain": [
       "  name_left     geometry  index_right name_right\n",
       "0     点要素A0  POINT (0 0)            0      点要素B0\n",
       "1     点要素A1  POINT (1 0)            1      点要素B1"
      ]
     },
     "execution_count": 34,
     "metadata": {},
     "output_type": "execute_result"
    }
   ],
   "source": [
    "demo_gdf1 = gpd.GeoDataFrame(\n",
    "    {\n",
    "        'name': [f'点要素A{i}' for i in range(3)],\n",
    "        'geometry': [Point(0, 0), Point(1, 0), Point(2, 0)]\n",
    "    }\n",
    ")\n",
    "\n",
    "demo_gdf2 = gpd.GeoDataFrame(\n",
    "    {\n",
    "        'name': [f'点要素B{i}' for i in range(3)],\n",
    "        'geometry': [Point(0, 0.5), Point(1, 1), Point(2, 1.5)]\n",
    "    }\n",
    ")\n",
    "\n",
    "(\n",
    "    demo_gdf1\n",
    "    .sjoin(demo_gdf2, predicate='dwithin', distance=1)\n",
    ")"
   ]
  },
  {
   "cell_type": "markdown",
   "id": "06646be9-7dcf-4d55-8f71-3b7b46f134f4",
   "metadata": {},
   "source": [
    "### 2.2.2 配合pd.read_csv指定矢量列类型"
   ]
  },
  {
   "cell_type": "code",
   "execution_count": 35,
   "id": "c824ad41-fb8e-40eb-b620-f2c722e33cfa",
   "metadata": {
    "execution": {
     "iopub.execute_input": "2024-06-25T09:13:34.571080Z",
     "iopub.status.busy": "2024-06-25T09:13:34.570079Z",
     "iopub.status.idle": "2024-06-25T09:13:34.583625Z",
     "shell.execute_reply": "2024-06-25T09:13:34.583625Z",
     "shell.execute_reply.started": "2024-06-25T09:13:34.571080Z"
    }
   },
   "outputs": [],
   "source": [
    "import pandas as pd\n",
    "\n",
    "(\n",
    "    gpd\n",
    "    .GeoDataFrame(\n",
    "        {\n",
    "            'name': [f'点要素A{i}' for i in range(3)],\n",
    "            'geometry': [Point(0, 0), Point(1, 0), Point(2, 0)]\n",
    "        }\n",
    "    )\n",
    "    .to_csv('矢量写出测试.csv', index=False)\n",
    ")"
   ]
  },
  {
   "cell_type": "code",
   "execution_count": 36,
   "id": "4c58679b-feac-4530-b69e-d7c29a90c418",
   "metadata": {
    "execution": {
     "iopub.execute_input": "2024-06-25T09:13:34.585894Z",
     "iopub.status.busy": "2024-06-25T09:13:34.585387Z",
     "iopub.status.idle": "2024-06-25T09:13:34.600431Z",
     "shell.execute_reply": "2024-06-25T09:13:34.598920Z",
     "shell.execute_reply.started": "2024-06-25T09:13:34.585894Z"
    }
   },
   "outputs": [
    {
     "data": {
      "text/plain": [
       "name        object\n",
       "geometry    object\n",
       "dtype: object"
      ]
     },
     "execution_count": 36,
     "metadata": {},
     "output_type": "execute_result"
    }
   ],
   "source": [
    "pd.read_csv('矢量写出测试.csv').dtypes"
   ]
  },
  {
   "cell_type": "code",
   "execution_count": 37,
   "id": "b31ce062-6acd-45d6-a2df-f0b37654df89",
   "metadata": {
    "execution": {
     "iopub.execute_input": "2024-06-25T09:13:34.601443Z",
     "iopub.status.busy": "2024-06-25T09:13:34.601443Z",
     "iopub.status.idle": "2024-06-25T09:13:34.615443Z",
     "shell.execute_reply": "2024-06-25T09:13:34.614440Z",
     "shell.execute_reply.started": "2024-06-25T09:13:34.601443Z"
    }
   },
   "outputs": [
    {
     "data": {
      "text/plain": [
       "name          object\n",
       "geometry    geometry\n",
       "dtype: object"
      ]
     },
     "execution_count": 37,
     "metadata": {},
     "output_type": "execute_result"
    }
   ],
   "source": [
    "pd.read_csv('矢量写出测试.csv', dtype={'geometry': 'geometry'}).dtypes"
   ]
  },
  {
   "cell_type": "markdown",
   "id": "a83c678f-8134-4b6f-b706-c831263b7962",
   "metadata": {},
   "source": [
    "### 2.2.3 to_json()新增参数show_bbox、drop_id、to_wgs84"
   ]
  },
  {
   "cell_type": "code",
   "execution_count": 38,
   "id": "c26f5d2d-36e6-4ee7-9ad2-7142f3fc245f",
   "metadata": {
    "execution": {
     "iopub.execute_input": "2024-06-25T09:13:34.616656Z",
     "iopub.status.busy": "2024-06-25T09:13:34.616656Z",
     "iopub.status.idle": "2024-06-25T09:13:34.646305Z",
     "shell.execute_reply": "2024-06-25T09:13:34.646305Z",
     "shell.execute_reply.started": "2024-06-25T09:13:34.616656Z"
    }
   },
   "outputs": [
    {
     "name": "stdout",
     "output_type": "stream",
     "text": [
      "{\n",
      "    \"type\": \"FeatureCollection\",\n",
      "    \"features\": [\n",
      "        {\n",
      "            \"type\": \"Feature\",\n",
      "            \"properties\": {\n",
      "                \"name\": \"示例要素\"\n",
      "            },\n",
      "            \"geometry\": {\n",
      "                \"type\": \"Point\",\n",
      "                \"coordinates\": [\n",
      "                    106.0,\n",
      "                    29.0\n",
      "                ]\n",
      "            },\n",
      "            \"bbox\": [\n",
      "                106.0,\n",
      "                29.0,\n",
      "                106.0,\n",
      "                29.0\n",
      "            ]\n",
      "        }\n",
      "    ],\n",
      "    \"bbox\": [\n",
      "        106.0,\n",
      "        29.0,\n",
      "        106.0,\n",
      "        29.0\n",
      "    ],\n",
      "    \"crs\": {\n",
      "        \"type\": \"name\",\n",
      "        \"properties\": {\n",
      "            \"name\": \"urn:ogc:def:crs:EPSG::4524\"\n",
      "        }\n",
      "    }\n",
      "}\n"
     ]
    }
   ],
   "source": [
    "demo_gdf = gpd.GeoDataFrame(\n",
    "    {\n",
    "        'name': ['示例要素'],\n",
    "        'geometry': [Point(106, 29)]\n",
    "    },\n",
    "    crs='EPSG:4524'\n",
    ")\n",
    "print(demo_gdf.to_json(\n",
    "    ensure_ascii=False,\n",
    "    indent=4,\n",
    "    show_bbox=True,\n",
    "    drop_id=True,\n",
    "    to_wgs84=False\n",
    "))"
   ]
  },
  {
   "cell_type": "markdown",
   "id": "6eb1021f-8df2-4f85-bb86-32d554469515",
   "metadata": {},
   "source": [
    "### 2.2.4 空间连接新增参数on_attribute"
   ]
  },
  {
   "cell_type": "code",
   "execution_count": 39,
   "id": "b26d697c-42f8-493c-b63d-28f2fcfbebdc",
   "metadata": {
    "execution": {
     "iopub.execute_input": "2024-06-25T09:13:34.652845Z",
     "iopub.status.busy": "2024-06-25T09:13:34.651844Z",
     "iopub.status.idle": "2024-06-25T09:13:34.677177Z",
     "shell.execute_reply": "2024-06-25T09:13:34.677177Z",
     "shell.execute_reply.started": "2024-06-25T09:13:34.652845Z"
    }
   },
   "outputs": [
    {
     "data": {
      "text/html": [
       "<div>\n",
       "<style scoped>\n",
       "    .dataframe tbody tr th:only-of-type {\n",
       "        vertical-align: middle;\n",
       "    }\n",
       "\n",
       "    .dataframe tbody tr th {\n",
       "        vertical-align: top;\n",
       "    }\n",
       "\n",
       "    .dataframe thead th {\n",
       "        text-align: right;\n",
       "    }\n",
       "</style>\n",
       "<table border=\"1\" class=\"dataframe\">\n",
       "  <thead>\n",
       "    <tr style=\"text-align: right;\">\n",
       "      <th></th>\n",
       "      <th>name_left</th>\n",
       "      <th>group</th>\n",
       "      <th>geometry</th>\n",
       "      <th>index_right</th>\n",
       "      <th>name_right</th>\n",
       "    </tr>\n",
       "  </thead>\n",
       "  <tbody>\n",
       "    <tr>\n",
       "      <th>1</th>\n",
       "      <td>点要素A1</td>\n",
       "      <td>y</td>\n",
       "      <td>POINT (1 0)</td>\n",
       "      <td>1</td>\n",
       "      <td>点要素B1</td>\n",
       "    </tr>\n",
       "  </tbody>\n",
       "</table>\n",
       "</div>"
      ],
      "text/plain": [
       "  name_left group     geometry  index_right name_right\n",
       "1     点要素A1     y  POINT (1 0)            1      点要素B1"
      ]
     },
     "execution_count": 39,
     "metadata": {},
     "output_type": "execute_result"
    }
   ],
   "source": [
    "demo_gdf1 = gpd.GeoDataFrame(\n",
    "    {\n",
    "        'name': [f'点要素A{i}' for i in range(3)],\n",
    "        'group': ['x', 'y', 'z'],\n",
    "        'geometry': [Point(0, 0), Point(1, 0), Point(2, 0)]\n",
    "    }\n",
    ")\n",
    "\n",
    "demo_gdf2 = gpd.GeoDataFrame(\n",
    "    {\n",
    "        'name': [f'点要素B{i}' for i in range(3)],\n",
    "        'group': ['y', 'y', 'z'],\n",
    "        'geometry': [Point(0, 0.5), Point(1, 1), Point(2, 1.5)]\n",
    "    }\n",
    ")\n",
    "\n",
    "(\n",
    "    demo_gdf1\n",
    "    .sjoin(demo_gdf2, predicate='dwithin', distance=1, on_attribute='group')\n",
    ")"
   ]
  },
  {
   "cell_type": "markdown",
   "id": "6793114d-4f5b-495b-8a72-e9ca16b1f725",
   "metadata": {},
   "source": [
    "## 2.3 标记为废弃的API"
   ]
  },
  {
   "cell_type": "markdown",
   "id": "ba13d4bf-bf52-4683-a7fb-7426e557893c",
   "metadata": {},
   "source": [
    "- `unary_union`将废弃，更换为`union_all()`"
   ]
  },
  {
   "cell_type": "code",
   "execution_count": 40,
   "id": "16c42577-ca49-465d-bcba-31656907c449",
   "metadata": {
    "execution": {
     "iopub.execute_input": "2024-06-25T09:13:34.679381Z",
     "iopub.status.busy": "2024-06-25T09:13:34.679381Z",
     "iopub.status.idle": "2024-06-25T09:13:34.694657Z",
     "shell.execute_reply": "2024-06-25T09:13:34.693200Z",
     "shell.execute_reply.started": "2024-06-25T09:13:34.679381Z"
    }
   },
   "outputs": [],
   "source": [
    "demo_s = gpd.GeoSeries([Point(i, i) for i in range(5)])"
   ]
  },
  {
   "cell_type": "code",
   "execution_count": 41,
   "id": "3570f90d-9d23-4c16-9821-851ebea3f2d6",
   "metadata": {
    "execution": {
     "iopub.execute_input": "2024-06-25T09:13:34.695850Z",
     "iopub.status.busy": "2024-06-25T09:13:34.695850Z",
     "iopub.status.idle": "2024-06-25T09:13:34.709421Z",
     "shell.execute_reply": "2024-06-25T09:13:34.709421Z",
     "shell.execute_reply.started": "2024-06-25T09:13:34.695850Z"
    }
   },
   "outputs": [
    {
     "name": "stderr",
     "output_type": "stream",
     "text": [
      "C:\\Users\\CNFeffery\\AppData\\Local\\Temp\\ipykernel_151120\\1218097510.py:1: DeprecationWarning: The 'unary_union' attribute is deprecated, use the 'union_all()' method instead.\n",
      "  demo_s.unary_union\n"
     ]
    },
    {
     "data": {
      "image/svg+xml": [
       "<svg xmlns=\"http://www.w3.org/2000/svg\" xmlns:xlink=\"http://www.w3.org/1999/xlink\" width=\"100.0\" height=\"100.0\" viewBox=\"-0.16 -0.16 4.32 4.32\" preserveAspectRatio=\"xMinYMin meet\"><g transform=\"matrix(1,0,0,-1,0,4.0)\"><g><circle cx=\"0.0\" cy=\"0.0\" r=\"0.1296\" stroke=\"#555555\" stroke-width=\"0.0432\" fill=\"#66cc99\" opacity=\"0.6\" /><circle cx=\"1.0\" cy=\"1.0\" r=\"0.1296\" stroke=\"#555555\" stroke-width=\"0.0432\" fill=\"#66cc99\" opacity=\"0.6\" /><circle cx=\"2.0\" cy=\"2.0\" r=\"0.1296\" stroke=\"#555555\" stroke-width=\"0.0432\" fill=\"#66cc99\" opacity=\"0.6\" /><circle cx=\"3.0\" cy=\"3.0\" r=\"0.1296\" stroke=\"#555555\" stroke-width=\"0.0432\" fill=\"#66cc99\" opacity=\"0.6\" /><circle cx=\"4.0\" cy=\"4.0\" r=\"0.1296\" stroke=\"#555555\" stroke-width=\"0.0432\" fill=\"#66cc99\" opacity=\"0.6\" /></g></g></svg>"
      ],
      "text/plain": [
       "<MULTIPOINT ((0 0), (1 1), (2 2), (3 3), (4 4))>"
      ]
     },
     "execution_count": 41,
     "metadata": {},
     "output_type": "execute_result"
    }
   ],
   "source": [
    "demo_s.unary_union"
   ]
  },
  {
   "cell_type": "code",
   "execution_count": 42,
   "id": "bbed0e30-2304-4830-acb8-01e3d65f7e3c",
   "metadata": {
    "execution": {
     "iopub.execute_input": "2024-06-25T09:13:34.711954Z",
     "iopub.status.busy": "2024-06-25T09:13:34.711954Z",
     "iopub.status.idle": "2024-06-25T09:13:34.725926Z",
     "shell.execute_reply": "2024-06-25T09:13:34.724927Z",
     "shell.execute_reply.started": "2024-06-25T09:13:34.711954Z"
    }
   },
   "outputs": [
    {
     "data": {
      "image/svg+xml": [
       "<svg xmlns=\"http://www.w3.org/2000/svg\" xmlns:xlink=\"http://www.w3.org/1999/xlink\" width=\"100.0\" height=\"100.0\" viewBox=\"-0.16 -0.16 4.32 4.32\" preserveAspectRatio=\"xMinYMin meet\"><g transform=\"matrix(1,0,0,-1,0,4.0)\"><g><circle cx=\"0.0\" cy=\"0.0\" r=\"0.1296\" stroke=\"#555555\" stroke-width=\"0.0432\" fill=\"#66cc99\" opacity=\"0.6\" /><circle cx=\"1.0\" cy=\"1.0\" r=\"0.1296\" stroke=\"#555555\" stroke-width=\"0.0432\" fill=\"#66cc99\" opacity=\"0.6\" /><circle cx=\"2.0\" cy=\"2.0\" r=\"0.1296\" stroke=\"#555555\" stroke-width=\"0.0432\" fill=\"#66cc99\" opacity=\"0.6\" /><circle cx=\"3.0\" cy=\"3.0\" r=\"0.1296\" stroke=\"#555555\" stroke-width=\"0.0432\" fill=\"#66cc99\" opacity=\"0.6\" /><circle cx=\"4.0\" cy=\"4.0\" r=\"0.1296\" stroke=\"#555555\" stroke-width=\"0.0432\" fill=\"#66cc99\" opacity=\"0.6\" /></g></g></svg>"
      ],
      "text/plain": [
       "<MULTIPOINT ((0 0), (1 1), (2 2), (3 3), (4 4))>"
      ]
     },
     "execution_count": 42,
     "metadata": {},
     "output_type": "execute_result"
    }
   ],
   "source": [
    "demo_s.union_all()"
   ]
  },
  {
   "cell_type": "markdown",
   "id": "5a914585-c635-421c-97cd-d9abca05e578",
   "metadata": {},
   "source": [
    "- `use_pygeos`将废弃并在`1.1`版本中正式移除"
   ]
  },
  {
   "cell_type": "code",
   "execution_count": 43,
   "id": "828f078d-387b-4889-85ab-d8e35e2765fe",
   "metadata": {
    "execution": {
     "iopub.execute_input": "2024-06-25T09:13:34.727905Z",
     "iopub.status.busy": "2024-06-25T09:13:34.727905Z",
     "iopub.status.idle": "2024-06-25T09:13:34.741214Z",
     "shell.execute_reply": "2024-06-25T09:13:34.740104Z",
     "shell.execute_reply.started": "2024-06-25T09:13:34.727905Z"
    }
   },
   "outputs": [
    {
     "name": "stderr",
     "output_type": "stream",
     "text": [
      "C:\\Users\\CNFeffery\\AppData\\Local\\Temp\\ipykernel_151120\\2305642257.py:1: UserWarning: pygeos support was removed in 1.0. geopandas.use_pygeos is a no-op and will be removed in geopandas 1.1.\n",
      "  gpd.options.use_pygeos = True\n"
     ]
    }
   ],
   "source": [
    "gpd.options.use_pygeos = True"
   ]
  },
  {
   "cell_type": "markdown",
   "id": "5b9dc989-fa9e-42b8-b30a-2cb9032a0fa3",
   "metadata": {},
   "source": [
    "- `crs`属性赋值以修改坐标系的方式将在未来被禁用，请统一使用`set_crs()`代替"
   ]
  },
  {
   "cell_type": "code",
   "execution_count": 44,
   "id": "d96ad49c-9a12-45a5-a197-c09e6d0c84a1",
   "metadata": {
    "execution": {
     "iopub.execute_input": "2024-06-25T09:13:34.743319Z",
     "iopub.status.busy": "2024-06-25T09:13:34.743319Z",
     "iopub.status.idle": "2024-06-25T09:13:34.757410Z",
     "shell.execute_reply": "2024-06-25T09:13:34.756270Z",
     "shell.execute_reply.started": "2024-06-25T09:13:34.743319Z"
    }
   },
   "outputs": [],
   "source": [
    "demo_gdf = gpd.GeoDataFrame(geometry=[Point(0, 0)], crs='EPSG:4326')"
   ]
  },
  {
   "cell_type": "code",
   "execution_count": 45,
   "id": "1b21e157-f5ae-4342-ab39-f4940beff96d",
   "metadata": {
    "execution": {
     "iopub.execute_input": "2024-06-25T09:13:34.760425Z",
     "iopub.status.busy": "2024-06-25T09:13:34.759429Z",
     "iopub.status.idle": "2024-06-25T09:13:34.772622Z",
     "shell.execute_reply": "2024-06-25T09:13:34.771621Z",
     "shell.execute_reply.started": "2024-06-25T09:13:34.760425Z"
    }
   },
   "outputs": [],
   "source": [
    "# 不推荐的方式\n",
    "demo_gdf.crs = 'EPSG:4524'"
   ]
  },
  {
   "cell_type": "code",
   "execution_count": 46,
   "id": "dda3b726-ed2e-4a20-bf7d-43a3915a11f9",
   "metadata": {
    "execution": {
     "iopub.execute_input": "2024-06-25T09:13:34.775628Z",
     "iopub.status.busy": "2024-06-25T09:13:34.774627Z",
     "iopub.status.idle": "2024-06-25T09:13:34.788555Z",
     "shell.execute_reply": "2024-06-25T09:13:34.787554Z",
     "shell.execute_reply.started": "2024-06-25T09:13:34.775628Z"
    }
   },
   "outputs": [],
   "source": [
    "# 推荐的方式\n",
    "demo_gdf.set_crs('EPSG:4524', inplace=True);"
   ]
  }
 ],
 "metadata": {
  "kernelspec": {
   "display_name": "Python 3 (ipykernel)",
   "language": "python",
   "name": "python3"
  },
  "language_info": {
   "codemirror_mode": {
    "name": "ipython",
    "version": 3
   },
   "file_extension": ".py",
   "mimetype": "text/x-python",
   "name": "python",
   "nbconvert_exporter": "python",
   "pygments_lexer": "ipython3",
   "version": "3.9.19"
  }
 },
 "nbformat": 4,
 "nbformat_minor": 5
}
