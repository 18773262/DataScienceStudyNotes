{
 "cells": [
  {
   "cell_type": "code",
   "execution_count": 14,
   "id": "8b2d6339-aaf0-436d-8866-87784068aff8",
   "metadata": {
    "execution": {
     "iopub.execute_input": "2022-02-16T07:08:10.075332Z",
     "iopub.status.busy": "2022-02-16T07:08:10.075332Z",
     "iopub.status.idle": "2022-02-16T07:08:10.097274Z",
     "shell.execute_reply": "2022-02-16T07:08:10.096276Z",
     "shell.execute_reply.started": "2022-02-16T07:08:10.075332Z"
    },
    "tags": []
   },
   "outputs": [
    {
     "data": {
      "text/plain": [
       "'dasdadssfasdfsdfffffffffffffffffffffffffffffffffffffffffffffffffffffffffffffffffffffffffffffffffffffffffffffffffffffffffffffffffffffffffffffffffffffffffffffffffffffffffffffffffffffffffffffffffffffffffffffffffffffffffffffffffffffffffffffffffffffffffffffffffffffffffffffffffffffffffffffffffffffffffffffffffffffffffffffffffffffffffffffffffffffffffffffffffffffffffffffffffffffffffffffffffffffffffffffffffffffffffffffffffffffffffffffffffffffffffffffffffffffffffffffffffffffffffffffffffffffffffffffffffffffffffffffffffffffffffffffffffffffffffffffffffffffffffffffffffffffffffffffffffffffffffffffffffffffffffffffffffffffffffffffffffffffffffffffffffffffffffffffffffffffffffffffffffffffffffffffffffffffffffffffffffffffff'"
      ]
     },
     "execution_count": 14,
     "metadata": {},
     "output_type": "execute_result"
    }
   ],
   "source": [
    "# 超长字符串书写方式1，缺点：需要补充对换行符号的replace\n",
    "long_str1 = '''\n",
    "dasdadssfasdfsdffffffffffffffffffffffffffffffffffffffffffffffffffffffff\n",
    "fffffffffffffffffffffffffffffffffffffffffffffffffffffffffffffffffffffff\n",
    "fffffffffffffffffffffffffffffffffffffffffffffffffffffffffffffffffffffff\n",
    "fffffffffffffffffffffffffffffffffffffffffffffffffffffffffffffffffffffff\n",
    "fffffffffffffffffffffffffffffffffffffffffffffffffffffffffffffffffffffff\n",
    "fffffffffffffffffffffffffffffffffffffffffffffffffffffffffffffffffffffff\n",
    "fffffffffffffffffffffffffffffffffffffffffffffffffffffffffffffffffffffff\n",
    "fffffffffffffffffffffffffffffffffffffffffffffffffffffffffffffffffffffff\n",
    "fffffffffffffffffffffffffffffffffffffffffffffffffffffffffffffffffffffff\n",
    "fffffffffffffffffffffffffffffffffffffffffffffffffffffffffffffffffffffff\n",
    "'''.replace('\\n', '')\n",
    "long_str1"
   ]
  },
  {
   "cell_type": "code",
   "execution_count": 15,
   "id": "5295d135-34d4-4f36-a063-2b878f1da63d",
   "metadata": {
    "execution": {
     "iopub.execute_input": "2022-02-16T07:08:29.193637Z",
     "iopub.status.busy": "2022-02-16T07:08:29.193637Z",
     "iopub.status.idle": "2022-02-16T07:08:29.213585Z",
     "shell.execute_reply": "2022-02-16T07:08:29.212614Z",
     "shell.execute_reply.started": "2022-02-16T07:08:29.193637Z"
    },
    "tags": []
   },
   "outputs": [
    {
     "data": {
      "text/plain": [
       "'dasdadssfasdfsdfffffffffffffffffffffffffffffffffffffffffffffffffffffffffffffffffffffffffffffffffffffffffffffffffffffffffffffffffffffffffffffffffffffffffffffffffffffffffffffffffffffffffffffffffffffffffffffffffffffffffffffffffffffffffffffffffffffffffffffffffffffffffffffffffffffffffffffffffffffffffffffffffffffffffffffffffffffffffffffffffffffffffffffffffffffffffffffffffffffffffffffffffffffffffffffffffffffffffffffffffffffffffffffffffffffffffffffffffffffffffffffffffffffffffffffffffffffffffffffffffffffffffffffffffffffffffffffffffffffffffffffffffffffffffffffffffffffffffffffffffffffffffffffffffffffffffffffffffffffffffffffffffffffffffffffffffffffffffffffffffffffffffffffffffffffffffffffffffffffffffffffffffffffff'"
      ]
     },
     "execution_count": 15,
     "metadata": {},
     "output_type": "execute_result"
    }
   ],
   "source": [
    "# 超长字符串书写方式2，缺点：需要每行分别写一对引号，但可以通过快捷键来批量创建光标同时书写多个引号\n",
    "long_str2 = (\n",
    "    'dasdadssfasdfsdffffffffffffffffffffffffffffffffffffffffffffffffffffffff'\n",
    "    'fffffffffffffffffffffffffffffffffffffffffffffffffffffffffffffffffffffff'\n",
    "    'fffffffffffffffffffffffffffffffffffffffffffffffffffffffffffffffffffffff'\n",
    "    'fffffffffffffffffffffffffffffffffffffffffffffffffffffffffffffffffffffff'\n",
    "    'fffffffffffffffffffffffffffffffffffffffffffffffffffffffffffffffffffffff'\n",
    "    'fffffffffffffffffffffffffffffffffffffffffffffffffffffffffffffffffffffff'\n",
    "    'fffffffffffffffffffffffffffffffffffffffffffffffffffffffffffffffffffffff'\n",
    "    'fffffffffffffffffffffffffffffffffffffffffffffffffffffffffffffffffffffff'\n",
    "    'fffffffffffffffffffffffffffffffffffffffffffffffffffffffffffffffffffffff'\n",
    "    'fffffffffffffffffffffffffffffffffffffffffffffffffffffffffffffffffffffff'\n",
    ")\n",
    "long_str2"
   ]
  }
 ],
 "metadata": {
  "kernelspec": {
   "display_name": "Python 3 (ipykernel)",
   "language": "python",
   "name": "python3"
  },
  "language_info": {
   "codemirror_mode": {
    "name": "ipython",
    "version": 3
   },
   "file_extension": ".py",
   "mimetype": "text/x-python",
   "name": "python",
   "nbconvert_exporter": "python",
   "pygments_lexer": "ipython3",
   "version": "3.7.11"
  }
 },
 "nbformat": 4,
 "nbformat_minor": 5
}
